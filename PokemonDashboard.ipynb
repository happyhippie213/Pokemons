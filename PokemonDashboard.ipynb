{
  "nbformat": 4,
  "nbformat_minor": 0,
  "metadata": {
    "colab": {
      "name": "PokemonDashboard.ipynb",
      "provenance": [],
      "collapsed_sections": [
        "Z4i4UgGKIWQc"
      ],
      "mount_file_id": "1FTSlXvgv7olYJQnHeEhALlOrSSGA3Z8h",
      "authorship_tag": "ABX9TyP9JAjfN6wbjt5AVizJfzXz",
      "include_colab_link": true
    },
    "kernelspec": {
      "name": "python3",
      "display_name": "Python 3"
    },
    "language_info": {
      "name": "python"
    }
  },
  "cells": [
    {
      "cell_type": "markdown",
      "metadata": {
        "id": "view-in-github",
        "colab_type": "text"
      },
      "source": [
        "<a href=\"https://colab.research.google.com/github/happyhippie213/Pokemons/blob/main/PokemonDashboard.ipynb\" target=\"_parent\"><img src=\"https://colab.research.google.com/assets/colab-badge.svg\" alt=\"Open In Colab\"/></a>"
      ]
    },
    {
      "cell_type": "markdown",
      "metadata": {
        "id": "Z4i4UgGKIWQc"
      },
      "source": [
        "## Class Code OG"
      ]
    },
    {
      "cell_type": "code",
      "metadata": {
        "id": "1lBe1k_Q5AU_"
      },
      "source": [
        "import pandas as pd\n",
        "import numpy as np\n",
        "from IPython.display import IFrame\n",
        "\n",
        "class PokemonInfo(object):\n",
        "\n",
        "  def __init__(self, specific=None):\n",
        "    if not specific:\n",
        "      spec = input(\"Would you like to look at a specific pokemon? Y/N\")\n",
        "      self.specific = spec\n",
        "      if self.specific == 'Y':\n",
        "        name = self.get_pokemon_name()\n",
        "        self.name = name\n",
        "    else:\n",
        "      self.specific = specific\n",
        "\n",
        "\n",
        "  @property\n",
        "  def data(self):\n",
        "    pokemon_df = pd.read_csv('pokemon.csv')\n",
        "    pokemon_df.index = pokemon_df[\"#\"]\n",
        "    info = pokemon_df[pokemon_df.columns[1:]]\n",
        "    new_cols = [\"Name\", \"Type_1\",\"Type_2\", \"Total\", \"HP\", \"Attack\", \"Defense\", \"SP_Atk\", \"SP_Def\", \"Speed\", \"Generation\", \"Legendary\"]\n",
        "    info.columns = new_cols\n",
        "    return info\n",
        "\n",
        "  @property\n",
        "  def all_types(self):\n",
        "    return pd.read_csv('https://raw.githubusercontent.com/zonination/pokemon-chart/master/chart.csv')\n",
        "  \n",
        "\n",
        "  \n",
        "  def pokemon_info(self, name=None):\n",
        "    \"\"\"\n",
        "    find information for pokemon\n",
        "    pokemon_name: str\n",
        "    \"\"\"\n",
        "    if not name:\n",
        "      name = input(\"What pokemon are you interested in?\")\n",
        "\n",
        "    gen_info = self.all_info[self.all_info.Name == name]\n",
        "    return gen_info\n",
        "\n",
        "\n",
        "  \n",
        "  def two_type_def(self):\n",
        "    pokemon = input(\"What pokemon? (any or <NAME>)\")\n",
        "    if pokemon != 'any':\n",
        "      display(self.pokemon_info(name=pokemon))\n",
        "    \n",
        "    url = 'https://www.pkmn.help/defense'\n",
        "    return IFrame(url, width=1000, height=800)\n",
        "\n",
        "  def two_type_atk(self):\n",
        "    pokemon = input(\"What pokemon? (any or <NAME>)\")\n",
        "    if pokemon != 'any':\n",
        "      display(self.pokemon_info(name=pokemon))\n",
        "    \n",
        "    url = 'https://www.pkmn.help/offense'\n",
        "    return IFrame(url, width=1000, height=800)"
      ],
      "execution_count": null,
      "outputs": []
    },
    {
      "cell_type": "markdown",
      "metadata": {
        "id": "y7L2biB52zGh"
      },
      "source": [
        "## Class Code New (2)"
      ]
    },
    {
      "cell_type": "code",
      "metadata": {
        "id": "Mtsjvb3iITjt"
      },
      "source": [
        "import pandas as pd\n",
        "import numpy as np\n",
        "from IPython.display import IFrame\n",
        "\n",
        "class PokemonInfo2(object):\n",
        "\n",
        "  def __init__(self, specific=None):\n",
        "    if not specific:\n",
        "      spec = input(\"Would you like to look at a specific pokemon? Y/N\")\n",
        "      self.specific = spec\n",
        "      if self.specific == 'Y':\n",
        "        name = self.get_pokemon_name()\n",
        "        self.name = name\n",
        "    else:\n",
        "      self.specific = specific\n",
        "    self.pokemon_caught = []\n",
        "    self.pokemon_seen = []\n",
        "\n",
        "  @property\n",
        "  def all_data(self):\n",
        "    data = pd.read_csv('pokemon_og.csv')\n",
        "    data.index = data['pokedex_number']\n",
        "    data=data[data.columns[1:]]\n",
        "\n",
        "    pertinent_info = list(data.columns[1:4])\n",
        "    battle_info = list(data.columns[4:10])\n",
        "    wild_info = list(data.columns[10:15])\n",
        "    other_info = list(data.columns[15:20])\n",
        "    power_against = list(data.columns[20:])\n",
        "    tuples = [('','name')]\n",
        "    for name in pertinent_info:\n",
        "      tuples.append((\"Important_Info\", name))\n",
        "    for name in battle_info:\n",
        "      tuples.append((\"Battle_Info\", name))\n",
        "    for name in wild_info:\n",
        "      tuples.append((\"Wild_Info\", name))\n",
        "    for name in other_info:\n",
        "      tuples.append((\"Other_Info\", name))\n",
        "    for name in power_against:\n",
        "      tuples.append((\"Power_Against\", name))\n",
        "\n",
        "    data.columns = pd.MultiIndex.from_tuples(tuples)\n",
        "    return data\n",
        "\n",
        "  @property\n",
        "  def all_types(self):\n",
        "    return pd.read_csv('https://raw.githubusercontent.com/zonination/pokemon-chart/master/chart.csv')\n",
        "  \n",
        "  @property\n",
        "  def important_info(self):\n",
        "    return all[['','Important_Info']]\n",
        "\n",
        "  @property\n",
        "  def battle_info(self):\n",
        "    return all[['','Battle_Info']]\n",
        "\n",
        "  @property\n",
        "  def wild_info(self):\n",
        "    return all[['','Wild_Info']]\n",
        "\n",
        "  @property\n",
        "  def other_info(self):\n",
        "    return all[['','Other_Info']]\n",
        "\n",
        "  @property\n",
        "  def power_against(self):\n",
        "    return all[['','Power_Against']]\n",
        "\n",
        "  def caught_ya(self):\n",
        "    s = input(\"What pokemon did you catch?\")\n",
        "    self.pokemon_caught.append(s.capitalize())\n",
        "    print(\"Pokemon caught updated!\")\n",
        "    print(\"What you've caught thus far:\")\n",
        "    print(self.pokemon_caught)\n",
        "    return self.pokemon_caught \n",
        "\n",
        "  def seen_it(self):\n",
        "    s = input(\"What pokemon did you see?\")\n",
        "    self.pokemon_caught.append(s.capitalize())\n",
        "    print(\"Pokemon caught updated!\")\n",
        "    print(\"What you've caught thus far:\")\n",
        "    print(self.pokemon_seen)\n",
        "    return self.pokemon_seen \n",
        "\n",
        "  def update_caught(self):\n",
        "    s = input(\"Type the list of pokemon you have caught - separated by a DOUBLE SPACE (. ). EX: farfetch'd. ducklett\")\n",
        "    x = s.split('. ')\n",
        "    gottem = []\n",
        "    for n in range(len(x)):\n",
        "      gottem.append(x[n].capitalize())\n",
        "    self.pokemon_caught.extend(gottem)\n",
        "    \n",
        "    self.pokemon_caught.sort()\n",
        "    print(\"Pokemon caught updated!\")\n",
        "    print(\"What you've caught thus far:\")\n",
        "    print(self.pokemon_caught)\n",
        "    return self.pokemon_caught\n",
        "\n",
        "  def pokemon_info(self, name=None):\n",
        "    \"\"\"\n",
        "    find information for pokemon\n",
        "    pokemon_name: str\n",
        "    \"\"\"\n",
        "    name = name.capitalize()\n",
        "    if not name:\n",
        "      name = input(\"What pokemon are you interested in?\")\n",
        "\n",
        "    gen_info = self.all_data[self.all_data['','name'] == name]\n",
        "    return (display(gen_info[['','Important_Info']]), display(gen_info['Battle_Info'][['attack','sp_attack']]))\n",
        "\n",
        "  \n",
        "  def two_type_def(self):\n",
        "    pokemon = input(\"What pokemon? (any or <NAME>)\")\n",
        "    pokemon = pokemon.capitalize()\n",
        "    if pokemon != 'any':\n",
        "      display(self.pokemon_info(name=pokemon))\n",
        "    \n",
        "    url = 'https://www.pkmn.help/defense'\n",
        "    return IFrame(url, width=1000, height=800)\n",
        "\n",
        "  def two_type_atk(self):\n",
        "    pokemon = input(\"What pokemon? (any or <NAME>)\")\n",
        "    pokemon = pokemon.capitalize()\n",
        "    if pokemon != 'any':\n",
        "      display(self.pokemon_info(name=pokemon))\n",
        "    \n",
        "    url = 'https://www.pkmn.help/offense'\n",
        "    return IFrame(url, width=1000, height=800)"
      ],
      "execution_count": 98,
      "outputs": []
    },
    {
      "cell_type": "code",
      "metadata": {
        "colab": {
          "base_uri": "https://localhost:8080/"
        },
        "id": "3DqcaL9oBv7F",
        "outputId": "17c6cd29-6856-4192-e288-0277b939d036"
      },
      "source": [
        ""
      ],
      "execution_count": 54,
      "outputs": [
        {
          "output_type": "stream",
          "text": [
            "Type the list of pokemon you have caught - separated by a DOUBLE SPACE (. ). EX: farfetch'd. ducklettfarfetch'd. ducklett\n"
          ],
          "name": "stdout"
        }
      ]
    },
    {
      "cell_type": "code",
      "metadata": {
        "colab": {
          "base_uri": "https://localhost:8080/"
        },
        "id": "QsZUWdJSBzts",
        "outputId": "f49c7f62-0e6e-4069-d4b6-ee0fb1dc8c97"
      },
      "source": [
        "\n",
        "\n",
        "\n",
        "\n",
        "\n",
        "x"
      ],
      "execution_count": 80,
      "outputs": [
        {
          "output_type": "execute_result",
          "data": {
            "text/plain": [
              "['far', 'near']"
            ]
          },
          "metadata": {
            "tags": []
          },
          "execution_count": 80
        }
      ]
    },
    {
      "cell_type": "markdown",
      "metadata": {
        "id": "xT5RBmiKItpz"
      },
      "source": [
        "## Dashboard"
      ]
    },
    {
      "cell_type": "code",
      "metadata": {
        "id": "QfsrJYy_qDT1"
      },
      "source": [
        "dash_x = PokemonInfo2(\"N\")"
      ],
      "execution_count": 122,
      "outputs": []
    },
    {
      "cell_type": "code",
      "metadata": {
        "colab": {
          "base_uri": "https://localhost:8080/",
          "height": 584
        },
        "id": "15wNLntm-uCJ",
        "outputId": "b2ee86a9-9bf1-4b43-af6e-0f72799b59ea"
      },
      "source": [
        "pokemon_x_caught = dash_x.caught_ya()"
      ],
      "execution_count": 123,
      "outputs": [
        {
          "output_type": "error",
          "ename": "KeyboardInterrupt",
          "evalue": "ignored",
          "traceback": [
            "\u001b[0;31m---------------------------------------------------------------------------\u001b[0m",
            "\u001b[0;31mKeyboardInterrupt\u001b[0m                         Traceback (most recent call last)",
            "\u001b[0;32m/usr/local/lib/python3.7/dist-packages/ipykernel/kernelbase.py\u001b[0m in \u001b[0;36m_input_request\u001b[0;34m(self, prompt, ident, parent, password)\u001b[0m\n\u001b[1;32m    728\u001b[0m             \u001b[0;32mtry\u001b[0m\u001b[0;34m:\u001b[0m\u001b[0;34m\u001b[0m\u001b[0;34m\u001b[0m\u001b[0m\n\u001b[0;32m--> 729\u001b[0;31m                 \u001b[0mident\u001b[0m\u001b[0;34m,\u001b[0m \u001b[0mreply\u001b[0m \u001b[0;34m=\u001b[0m \u001b[0mself\u001b[0m\u001b[0;34m.\u001b[0m\u001b[0msession\u001b[0m\u001b[0;34m.\u001b[0m\u001b[0mrecv\u001b[0m\u001b[0;34m(\u001b[0m\u001b[0mself\u001b[0m\u001b[0;34m.\u001b[0m\u001b[0mstdin_socket\u001b[0m\u001b[0;34m,\u001b[0m \u001b[0;36m0\u001b[0m\u001b[0;34m)\u001b[0m\u001b[0;34m\u001b[0m\u001b[0;34m\u001b[0m\u001b[0m\n\u001b[0m\u001b[1;32m    730\u001b[0m             \u001b[0;32mexcept\u001b[0m \u001b[0mException\u001b[0m\u001b[0;34m:\u001b[0m\u001b[0;34m\u001b[0m\u001b[0;34m\u001b[0m\u001b[0m\n",
            "\u001b[0;32m/usr/local/lib/python3.7/dist-packages/jupyter_client/session.py\u001b[0m in \u001b[0;36mrecv\u001b[0;34m(self, socket, mode, content, copy)\u001b[0m\n\u001b[1;32m    802\u001b[0m         \u001b[0;32mtry\u001b[0m\u001b[0;34m:\u001b[0m\u001b[0;34m\u001b[0m\u001b[0;34m\u001b[0m\u001b[0m\n\u001b[0;32m--> 803\u001b[0;31m             \u001b[0mmsg_list\u001b[0m \u001b[0;34m=\u001b[0m \u001b[0msocket\u001b[0m\u001b[0;34m.\u001b[0m\u001b[0mrecv_multipart\u001b[0m\u001b[0;34m(\u001b[0m\u001b[0mmode\u001b[0m\u001b[0;34m,\u001b[0m \u001b[0mcopy\u001b[0m\u001b[0;34m=\u001b[0m\u001b[0mcopy\u001b[0m\u001b[0;34m)\u001b[0m\u001b[0;34m\u001b[0m\u001b[0;34m\u001b[0m\u001b[0m\n\u001b[0m\u001b[1;32m    804\u001b[0m         \u001b[0;32mexcept\u001b[0m \u001b[0mzmq\u001b[0m\u001b[0;34m.\u001b[0m\u001b[0mZMQError\u001b[0m \u001b[0;32mas\u001b[0m \u001b[0me\u001b[0m\u001b[0;34m:\u001b[0m\u001b[0;34m\u001b[0m\u001b[0;34m\u001b[0m\u001b[0m\n",
            "\u001b[0;32m/usr/local/lib/python3.7/dist-packages/zmq/sugar/socket.py\u001b[0m in \u001b[0;36mrecv_multipart\u001b[0;34m(self, flags, copy, track)\u001b[0m\n\u001b[1;32m    582\u001b[0m         \"\"\"\n\u001b[0;32m--> 583\u001b[0;31m         \u001b[0mparts\u001b[0m \u001b[0;34m=\u001b[0m \u001b[0;34m[\u001b[0m\u001b[0mself\u001b[0m\u001b[0;34m.\u001b[0m\u001b[0mrecv\u001b[0m\u001b[0;34m(\u001b[0m\u001b[0mflags\u001b[0m\u001b[0;34m,\u001b[0m \u001b[0mcopy\u001b[0m\u001b[0;34m=\u001b[0m\u001b[0mcopy\u001b[0m\u001b[0;34m,\u001b[0m \u001b[0mtrack\u001b[0m\u001b[0;34m=\u001b[0m\u001b[0mtrack\u001b[0m\u001b[0;34m)\u001b[0m\u001b[0;34m]\u001b[0m\u001b[0;34m\u001b[0m\u001b[0;34m\u001b[0m\u001b[0m\n\u001b[0m\u001b[1;32m    584\u001b[0m         \u001b[0;31m# have first part already, only loop while more to receive\u001b[0m\u001b[0;34m\u001b[0m\u001b[0;34m\u001b[0m\u001b[0;34m\u001b[0m\u001b[0m\n",
            "\u001b[0;32mzmq/backend/cython/socket.pyx\u001b[0m in \u001b[0;36mzmq.backend.cython.socket.Socket.recv\u001b[0;34m()\u001b[0m\n",
            "\u001b[0;32mzmq/backend/cython/socket.pyx\u001b[0m in \u001b[0;36mzmq.backend.cython.socket.Socket.recv\u001b[0;34m()\u001b[0m\n",
            "\u001b[0;32mzmq/backend/cython/socket.pyx\u001b[0m in \u001b[0;36mzmq.backend.cython.socket._recv_copy\u001b[0;34m()\u001b[0m\n",
            "\u001b[0;32m/usr/local/lib/python3.7/dist-packages/zmq/backend/cython/checkrc.pxd\u001b[0m in \u001b[0;36mzmq.backend.cython.checkrc._check_rc\u001b[0;34m()\u001b[0m\n",
            "\u001b[0;31mKeyboardInterrupt\u001b[0m: ",
            "\nDuring handling of the above exception, another exception occurred:\n",
            "\u001b[0;31mKeyboardInterrupt\u001b[0m                         Traceback (most recent call last)",
            "\u001b[0;32m<ipython-input-123-019fe4390db6>\u001b[0m in \u001b[0;36m<module>\u001b[0;34m()\u001b[0m\n\u001b[0;32m----> 1\u001b[0;31m \u001b[0mpokemon_x_caught\u001b[0m \u001b[0;34m=\u001b[0m \u001b[0mdash_x\u001b[0m\u001b[0;34m.\u001b[0m\u001b[0mcaught_ya\u001b[0m\u001b[0;34m(\u001b[0m\u001b[0;34m)\u001b[0m\u001b[0;34m\u001b[0m\u001b[0;34m\u001b[0m\u001b[0m\n\u001b[0m",
            "\u001b[0;32m<ipython-input-98-cb34bf4874f5>\u001b[0m in \u001b[0;36mcaught_ya\u001b[0;34m(self)\u001b[0m\n\u001b[1;32m     68\u001b[0m \u001b[0;34m\u001b[0m\u001b[0m\n\u001b[1;32m     69\u001b[0m   \u001b[0;32mdef\u001b[0m \u001b[0mcaught_ya\u001b[0m\u001b[0;34m(\u001b[0m\u001b[0mself\u001b[0m\u001b[0;34m)\u001b[0m\u001b[0;34m:\u001b[0m\u001b[0;34m\u001b[0m\u001b[0;34m\u001b[0m\u001b[0m\n\u001b[0;32m---> 70\u001b[0;31m     \u001b[0ms\u001b[0m \u001b[0;34m=\u001b[0m \u001b[0minput\u001b[0m\u001b[0;34m(\u001b[0m\u001b[0;34m\"What pokemon did you catch?\"\u001b[0m\u001b[0;34m)\u001b[0m\u001b[0;34m\u001b[0m\u001b[0;34m\u001b[0m\u001b[0m\n\u001b[0m\u001b[1;32m     71\u001b[0m     \u001b[0mself\u001b[0m\u001b[0;34m.\u001b[0m\u001b[0mpokemon_caught\u001b[0m\u001b[0;34m.\u001b[0m\u001b[0mappend\u001b[0m\u001b[0;34m(\u001b[0m\u001b[0ms\u001b[0m\u001b[0;34m.\u001b[0m\u001b[0mcapitalize\u001b[0m\u001b[0;34m(\u001b[0m\u001b[0;34m)\u001b[0m\u001b[0;34m)\u001b[0m\u001b[0;34m\u001b[0m\u001b[0;34m\u001b[0m\u001b[0m\n\u001b[1;32m     72\u001b[0m     \u001b[0mprint\u001b[0m\u001b[0;34m(\u001b[0m\u001b[0;34m\"Pokemon caught updated!\"\u001b[0m\u001b[0;34m)\u001b[0m\u001b[0;34m\u001b[0m\u001b[0;34m\u001b[0m\u001b[0m\n",
            "\u001b[0;32m/usr/local/lib/python3.7/dist-packages/ipykernel/kernelbase.py\u001b[0m in \u001b[0;36mraw_input\u001b[0;34m(self, prompt)\u001b[0m\n\u001b[1;32m    702\u001b[0m             \u001b[0mself\u001b[0m\u001b[0;34m.\u001b[0m\u001b[0m_parent_ident\u001b[0m\u001b[0;34m,\u001b[0m\u001b[0;34m\u001b[0m\u001b[0;34m\u001b[0m\u001b[0m\n\u001b[1;32m    703\u001b[0m             \u001b[0mself\u001b[0m\u001b[0;34m.\u001b[0m\u001b[0m_parent_header\u001b[0m\u001b[0;34m,\u001b[0m\u001b[0;34m\u001b[0m\u001b[0;34m\u001b[0m\u001b[0m\n\u001b[0;32m--> 704\u001b[0;31m             \u001b[0mpassword\u001b[0m\u001b[0;34m=\u001b[0m\u001b[0;32mFalse\u001b[0m\u001b[0;34m,\u001b[0m\u001b[0;34m\u001b[0m\u001b[0;34m\u001b[0m\u001b[0m\n\u001b[0m\u001b[1;32m    705\u001b[0m         )\n\u001b[1;32m    706\u001b[0m \u001b[0;34m\u001b[0m\u001b[0m\n",
            "\u001b[0;32m/usr/local/lib/python3.7/dist-packages/ipykernel/kernelbase.py\u001b[0m in \u001b[0;36m_input_request\u001b[0;34m(self, prompt, ident, parent, password)\u001b[0m\n\u001b[1;32m    732\u001b[0m             \u001b[0;32mexcept\u001b[0m \u001b[0mKeyboardInterrupt\u001b[0m\u001b[0;34m:\u001b[0m\u001b[0;34m\u001b[0m\u001b[0;34m\u001b[0m\u001b[0m\n\u001b[1;32m    733\u001b[0m                 \u001b[0;31m# re-raise KeyboardInterrupt, to truncate traceback\u001b[0m\u001b[0;34m\u001b[0m\u001b[0;34m\u001b[0m\u001b[0;34m\u001b[0m\u001b[0m\n\u001b[0;32m--> 734\u001b[0;31m                 \u001b[0;32mraise\u001b[0m \u001b[0mKeyboardInterrupt\u001b[0m\u001b[0;34m\u001b[0m\u001b[0;34m\u001b[0m\u001b[0m\n\u001b[0m\u001b[1;32m    735\u001b[0m             \u001b[0;32melse\u001b[0m\u001b[0;34m:\u001b[0m\u001b[0;34m\u001b[0m\u001b[0;34m\u001b[0m\u001b[0m\n\u001b[1;32m    736\u001b[0m                 \u001b[0;32mbreak\u001b[0m\u001b[0;34m\u001b[0m\u001b[0;34m\u001b[0m\u001b[0m\n",
            "\u001b[0;31mKeyboardInterrupt\u001b[0m: "
          ]
        }
      ]
    },
    {
      "cell_type": "code",
      "metadata": {
        "colab": {
          "base_uri": "https://localhost:8080/"
        },
        "id": "pTNgl6tiAtH3",
        "outputId": "bef50d8a-35fd-4c5a-bf27-03d398890801"
      },
      "source": [
        "caught_x = dash_x.update_caught()"
      ],
      "execution_count": 124,
      "outputs": [
        {
          "output_type": "stream",
          "text": [
            "Type the list of pokemon you have caught - separated by a DOUBLE SPACE (. ). EX: farfetch'd. ducklettfennekin. bunnelby. fletchling. pidgey. scatterbug. weedle. pansear. panpour. farfetch'd. flabébé. roselia. ledyba. combee. bulbasaur. skiddo. pancham. doduo. espurr. honedge. ducklett. swirlix. volbeat\n",
            "Pokemon caught updated!\n",
            "What you've caught thus far:\n",
            "['Bulbasaur', 'Bunnelby', 'Combee', 'Doduo', 'Ducklett', 'Espurr', \"Farfetch'd\", 'Fennekin', 'Flabébé', 'Fletchling', 'Honedge', 'Ledyba', 'Pancham', 'Panpour', 'Pansear', 'Pidgey', 'Roselia', 'Scatterbug', 'Skiddo', 'Swirlix', 'Volbeat', 'Weedle']\n"
          ],
          "name": "stdout"
        }
      ]
    },
    {
      "cell_type": "code",
      "metadata": {
        "colab": {
          "base_uri": "https://localhost:8080/"
        },
        "id": "wC4MJBJYMXQz",
        "outputId": "1b03d7d9-694a-4efd-c018-92369271c2fe"
      },
      "source": [
        "dash_x.all_data[dash_x.all_data['','name'] == 'Espurr'].index[0]"
      ],
      "execution_count": 121,
      "outputs": [
        {
          "output_type": "execute_result",
          "data": {
            "text/plain": [
              "677"
            ]
          },
          "metadata": {
            "tags": []
          },
          "execution_count": 121
        }
      ]
    },
    {
      "cell_type": "code",
      "metadata": {
        "colab": {
          "base_uri": "https://localhost:8080/",
          "height": 723
        },
        "id": "x_dDh5sfBBhg",
        "outputId": "481267b7-0981-44e6-9357-ff7811f0449d"
      },
      "source": [
        "# idx_caught=[]\n",
        "# for name in caught_x:\n",
        "#   idx_caught.append(dash_x.all_data[dash_x.all_data['','name'] == name].index[0])\n",
        "# caught = pd.DataFrame(caught_x, index=idx_caught, columns= ['Caught'])\n",
        "# caught.sort_index(inplace=True)\n",
        "# caught"
      ],
      "execution_count": 137,
      "outputs": [
        {
          "output_type": "execute_result",
          "data": {
            "text/html": [
              "<div>\n",
              "<style scoped>\n",
              "    .dataframe tbody tr th:only-of-type {\n",
              "        vertical-align: middle;\n",
              "    }\n",
              "\n",
              "    .dataframe tbody tr th {\n",
              "        vertical-align: top;\n",
              "    }\n",
              "\n",
              "    .dataframe thead th {\n",
              "        text-align: right;\n",
              "    }\n",
              "</style>\n",
              "<table border=\"1\" class=\"dataframe\">\n",
              "  <thead>\n",
              "    <tr style=\"text-align: right;\">\n",
              "      <th></th>\n",
              "      <th>Caught</th>\n",
              "    </tr>\n",
              "  </thead>\n",
              "  <tbody>\n",
              "    <tr>\n",
              "      <th>1</th>\n",
              "      <td>Bulbasaur</td>\n",
              "    </tr>\n",
              "    <tr>\n",
              "      <th>13</th>\n",
              "      <td>Weedle</td>\n",
              "    </tr>\n",
              "    <tr>\n",
              "      <th>16</th>\n",
              "      <td>Pidgey</td>\n",
              "    </tr>\n",
              "    <tr>\n",
              "      <th>83</th>\n",
              "      <td>Farfetch'd</td>\n",
              "    </tr>\n",
              "    <tr>\n",
              "      <th>84</th>\n",
              "      <td>Doduo</td>\n",
              "    </tr>\n",
              "    <tr>\n",
              "      <th>165</th>\n",
              "      <td>Ledyba</td>\n",
              "    </tr>\n",
              "    <tr>\n",
              "      <th>313</th>\n",
              "      <td>Volbeat</td>\n",
              "    </tr>\n",
              "    <tr>\n",
              "      <th>315</th>\n",
              "      <td>Roselia</td>\n",
              "    </tr>\n",
              "    <tr>\n",
              "      <th>415</th>\n",
              "      <td>Combee</td>\n",
              "    </tr>\n",
              "    <tr>\n",
              "      <th>513</th>\n",
              "      <td>Pansear</td>\n",
              "    </tr>\n",
              "    <tr>\n",
              "      <th>515</th>\n",
              "      <td>Panpour</td>\n",
              "    </tr>\n",
              "    <tr>\n",
              "      <th>580</th>\n",
              "      <td>Ducklett</td>\n",
              "    </tr>\n",
              "    <tr>\n",
              "      <th>653</th>\n",
              "      <td>Fennekin</td>\n",
              "    </tr>\n",
              "    <tr>\n",
              "      <th>659</th>\n",
              "      <td>Bunnelby</td>\n",
              "    </tr>\n",
              "    <tr>\n",
              "      <th>661</th>\n",
              "      <td>Fletchling</td>\n",
              "    </tr>\n",
              "    <tr>\n",
              "      <th>664</th>\n",
              "      <td>Scatterbug</td>\n",
              "    </tr>\n",
              "    <tr>\n",
              "      <th>669</th>\n",
              "      <td>Flabébé</td>\n",
              "    </tr>\n",
              "    <tr>\n",
              "      <th>672</th>\n",
              "      <td>Skiddo</td>\n",
              "    </tr>\n",
              "    <tr>\n",
              "      <th>674</th>\n",
              "      <td>Pancham</td>\n",
              "    </tr>\n",
              "    <tr>\n",
              "      <th>677</th>\n",
              "      <td>Espurr</td>\n",
              "    </tr>\n",
              "    <tr>\n",
              "      <th>679</th>\n",
              "      <td>Honedge</td>\n",
              "    </tr>\n",
              "    <tr>\n",
              "      <th>684</th>\n",
              "      <td>Swirlix</td>\n",
              "    </tr>\n",
              "  </tbody>\n",
              "</table>\n",
              "</div>"
            ],
            "text/plain": [
              "         Caught\n",
              "1     Bulbasaur\n",
              "13       Weedle\n",
              "16       Pidgey\n",
              "83   Farfetch'd\n",
              "84        Doduo\n",
              "165      Ledyba\n",
              "313     Volbeat\n",
              "315     Roselia\n",
              "415      Combee\n",
              "513     Pansear\n",
              "515     Panpour\n",
              "580    Ducklett\n",
              "653    Fennekin\n",
              "659    Bunnelby\n",
              "661  Fletchling\n",
              "664  Scatterbug\n",
              "669     Flabébé\n",
              "672      Skiddo\n",
              "674     Pancham\n",
              "677      Espurr\n",
              "679     Honedge\n",
              "684     Swirlix"
            ]
          },
          "metadata": {
            "tags": []
          },
          "execution_count": 137
        }
      ]
    },
    {
      "cell_type": "code",
      "metadata": {
        "id": "3wtwn0-B_bPM",
        "colab": {
          "base_uri": "https://localhost:8080/",
          "height": 475
        },
        "outputId": "26ffb033-394d-4f65-9b51-9b1c4edcf059"
      },
      "source": [
        "dash.battle_info"
      ],
      "execution_count": null,
      "outputs": [
        {
          "output_type": "execute_result",
          "data": {
            "text/html": [
              "<div>\n",
              "<style scoped>\n",
              "    .dataframe tbody tr th:only-of-type {\n",
              "        vertical-align: middle;\n",
              "    }\n",
              "\n",
              "    .dataframe tbody tr th {\n",
              "        vertical-align: top;\n",
              "    }\n",
              "\n",
              "    .dataframe thead tr th {\n",
              "        text-align: left;\n",
              "    }\n",
              "\n",
              "    .dataframe thead tr:last-of-type th {\n",
              "        text-align: right;\n",
              "    }\n",
              "</style>\n",
              "<table border=\"1\" class=\"dataframe\">\n",
              "  <thead>\n",
              "    <tr>\n",
              "      <th></th>\n",
              "      <th></th>\n",
              "      <th colspan=\"6\" halign=\"left\">Battle_Info</th>\n",
              "    </tr>\n",
              "    <tr>\n",
              "      <th></th>\n",
              "      <th>name</th>\n",
              "      <th>hp</th>\n",
              "      <th>attack</th>\n",
              "      <th>defense</th>\n",
              "      <th>sp_attack</th>\n",
              "      <th>sp_defense</th>\n",
              "      <th>speed</th>\n",
              "    </tr>\n",
              "    <tr>\n",
              "      <th>pokedex_number</th>\n",
              "      <th></th>\n",
              "      <th></th>\n",
              "      <th></th>\n",
              "      <th></th>\n",
              "      <th></th>\n",
              "      <th></th>\n",
              "      <th></th>\n",
              "    </tr>\n",
              "  </thead>\n",
              "  <tbody>\n",
              "    <tr>\n",
              "      <th>1</th>\n",
              "      <td>Bulbasaur</td>\n",
              "      <td>45</td>\n",
              "      <td>49</td>\n",
              "      <td>49</td>\n",
              "      <td>65</td>\n",
              "      <td>65</td>\n",
              "      <td>45</td>\n",
              "    </tr>\n",
              "    <tr>\n",
              "      <th>2</th>\n",
              "      <td>Ivysaur</td>\n",
              "      <td>60</td>\n",
              "      <td>62</td>\n",
              "      <td>63</td>\n",
              "      <td>80</td>\n",
              "      <td>80</td>\n",
              "      <td>60</td>\n",
              "    </tr>\n",
              "    <tr>\n",
              "      <th>3</th>\n",
              "      <td>Venusaur</td>\n",
              "      <td>80</td>\n",
              "      <td>100</td>\n",
              "      <td>123</td>\n",
              "      <td>122</td>\n",
              "      <td>120</td>\n",
              "      <td>80</td>\n",
              "    </tr>\n",
              "    <tr>\n",
              "      <th>4</th>\n",
              "      <td>Charmander</td>\n",
              "      <td>39</td>\n",
              "      <td>52</td>\n",
              "      <td>43</td>\n",
              "      <td>60</td>\n",
              "      <td>50</td>\n",
              "      <td>65</td>\n",
              "    </tr>\n",
              "    <tr>\n",
              "      <th>5</th>\n",
              "      <td>Charmeleon</td>\n",
              "      <td>58</td>\n",
              "      <td>64</td>\n",
              "      <td>58</td>\n",
              "      <td>80</td>\n",
              "      <td>65</td>\n",
              "      <td>80</td>\n",
              "    </tr>\n",
              "    <tr>\n",
              "      <th>...</th>\n",
              "      <td>...</td>\n",
              "      <td>...</td>\n",
              "      <td>...</td>\n",
              "      <td>...</td>\n",
              "      <td>...</td>\n",
              "      <td>...</td>\n",
              "      <td>...</td>\n",
              "    </tr>\n",
              "    <tr>\n",
              "      <th>797</th>\n",
              "      <td>Celesteela</td>\n",
              "      <td>97</td>\n",
              "      <td>101</td>\n",
              "      <td>103</td>\n",
              "      <td>107</td>\n",
              "      <td>101</td>\n",
              "      <td>61</td>\n",
              "    </tr>\n",
              "    <tr>\n",
              "      <th>798</th>\n",
              "      <td>Kartana</td>\n",
              "      <td>59</td>\n",
              "      <td>181</td>\n",
              "      <td>131</td>\n",
              "      <td>59</td>\n",
              "      <td>31</td>\n",
              "      <td>109</td>\n",
              "    </tr>\n",
              "    <tr>\n",
              "      <th>799</th>\n",
              "      <td>Guzzlord</td>\n",
              "      <td>223</td>\n",
              "      <td>101</td>\n",
              "      <td>53</td>\n",
              "      <td>97</td>\n",
              "      <td>53</td>\n",
              "      <td>43</td>\n",
              "    </tr>\n",
              "    <tr>\n",
              "      <th>800</th>\n",
              "      <td>Necrozma</td>\n",
              "      <td>97</td>\n",
              "      <td>107</td>\n",
              "      <td>101</td>\n",
              "      <td>127</td>\n",
              "      <td>89</td>\n",
              "      <td>79</td>\n",
              "    </tr>\n",
              "    <tr>\n",
              "      <th>801</th>\n",
              "      <td>Magearna</td>\n",
              "      <td>80</td>\n",
              "      <td>95</td>\n",
              "      <td>115</td>\n",
              "      <td>130</td>\n",
              "      <td>115</td>\n",
              "      <td>65</td>\n",
              "    </tr>\n",
              "  </tbody>\n",
              "</table>\n",
              "<p>801 rows × 7 columns</p>\n",
              "</div>"
            ],
            "text/plain": [
              "                           Battle_Info         ...                           \n",
              "                      name          hp attack  ... sp_attack sp_defense speed\n",
              "pokedex_number                                 ...                           \n",
              "1                Bulbasaur          45     49  ...        65         65    45\n",
              "2                  Ivysaur          60     62  ...        80         80    60\n",
              "3                 Venusaur          80    100  ...       122        120    80\n",
              "4               Charmander          39     52  ...        60         50    65\n",
              "5               Charmeleon          58     64  ...        80         65    80\n",
              "...                    ...         ...    ...  ...       ...        ...   ...\n",
              "797             Celesteela          97    101  ...       107        101    61\n",
              "798                Kartana          59    181  ...        59         31   109\n",
              "799               Guzzlord         223    101  ...        97         53    43\n",
              "800               Necrozma          97    107  ...       127         89    79\n",
              "801               Magearna          80     95  ...       130        115    65\n",
              "\n",
              "[801 rows x 7 columns]"
            ]
          },
          "metadata": {
            "tags": []
          },
          "execution_count": 124
        }
      ]
    },
    {
      "cell_type": "code",
      "metadata": {
        "colab": {
          "base_uri": "https://localhost:8080/",
          "height": 1000
        },
        "id": "j7JZcNS63FkA",
        "outputId": "40d49d03-9278-46b1-e0a3-94318071f8e6"
      },
      "source": [
        "dash.two_type_atk()"
      ],
      "execution_count": 118,
      "outputs": [
        {
          "output_type": "stream",
          "text": [
            "What pokemon? (any or <NAME>)espurr\n"
          ],
          "name": "stdout"
        },
        {
          "output_type": "display_data",
          "data": {
            "text/html": [
              "<div>\n",
              "<style scoped>\n",
              "    .dataframe tbody tr th:only-of-type {\n",
              "        vertical-align: middle;\n",
              "    }\n",
              "\n",
              "    .dataframe tbody tr th {\n",
              "        vertical-align: top;\n",
              "    }\n",
              "\n",
              "    .dataframe thead tr th {\n",
              "        text-align: left;\n",
              "    }\n",
              "\n",
              "    .dataframe thead tr:last-of-type th {\n",
              "        text-align: right;\n",
              "    }\n",
              "</style>\n",
              "<table border=\"1\" class=\"dataframe\">\n",
              "  <thead>\n",
              "    <tr>\n",
              "      <th></th>\n",
              "      <th></th>\n",
              "      <th colspan=\"3\" halign=\"left\">Important_Info</th>\n",
              "    </tr>\n",
              "    <tr>\n",
              "      <th></th>\n",
              "      <th>name</th>\n",
              "      <th>classification</th>\n",
              "      <th>type1</th>\n",
              "      <th>type2</th>\n",
              "    </tr>\n",
              "    <tr>\n",
              "      <th>pokedex_number</th>\n",
              "      <th></th>\n",
              "      <th></th>\n",
              "      <th></th>\n",
              "      <th></th>\n",
              "    </tr>\n",
              "  </thead>\n",
              "  <tbody>\n",
              "    <tr>\n",
              "      <th>677</th>\n",
              "      <td>Espurr</td>\n",
              "      <td>Restraint Pokémon</td>\n",
              "      <td>psychic</td>\n",
              "      <td>NaN</td>\n",
              "    </tr>\n",
              "  </tbody>\n",
              "</table>\n",
              "</div>"
            ],
            "text/plain": [
              "                           Important_Info               \n",
              "                  name     classification    type1 type2\n",
              "pokedex_number                                          \n",
              "677             Espurr  Restraint Pokémon  psychic   NaN"
            ]
          },
          "metadata": {
            "tags": []
          }
        },
        {
          "output_type": "display_data",
          "data": {
            "text/html": [
              "<div>\n",
              "<style scoped>\n",
              "    .dataframe tbody tr th:only-of-type {\n",
              "        vertical-align: middle;\n",
              "    }\n",
              "\n",
              "    .dataframe tbody tr th {\n",
              "        vertical-align: top;\n",
              "    }\n",
              "\n",
              "    .dataframe thead th {\n",
              "        text-align: right;\n",
              "    }\n",
              "</style>\n",
              "<table border=\"1\" class=\"dataframe\">\n",
              "  <thead>\n",
              "    <tr style=\"text-align: right;\">\n",
              "      <th></th>\n",
              "      <th>attack</th>\n",
              "      <th>sp_attack</th>\n",
              "    </tr>\n",
              "    <tr>\n",
              "      <th>pokedex_number</th>\n",
              "      <th></th>\n",
              "      <th></th>\n",
              "    </tr>\n",
              "  </thead>\n",
              "  <tbody>\n",
              "    <tr>\n",
              "      <th>677</th>\n",
              "      <td>48</td>\n",
              "      <td>63</td>\n",
              "    </tr>\n",
              "  </tbody>\n",
              "</table>\n",
              "</div>"
            ],
            "text/plain": [
              "                attack  sp_attack\n",
              "pokedex_number                   \n",
              "677                 48         63"
            ]
          },
          "metadata": {
            "tags": []
          }
        },
        {
          "output_type": "display_data",
          "data": {
            "text/plain": [
              "(None, None)"
            ]
          },
          "metadata": {
            "tags": []
          }
        },
        {
          "output_type": "execute_result",
          "data": {
            "text/html": [
              "\n",
              "        <iframe\n",
              "            width=\"1000\"\n",
              "            height=\"800\"\n",
              "            src=\"https://www.pkmn.help/offense\"\n",
              "            frameborder=\"0\"\n",
              "            allowfullscreen\n",
              "        ></iframe>\n",
              "        "
            ],
            "text/plain": [
              "<IPython.lib.display.IFrame at 0x7f9b28e6ea50>"
            ]
          },
          "metadata": {
            "tags": []
          },
          "execution_count": 118
        }
      ]
    },
    {
      "cell_type": "code",
      "metadata": {
        "colab": {
          "base_uri": "https://localhost:8080/",
          "height": 548
        },
        "id": "4ZUPuNzy6me0",
        "outputId": "773a6445-3f6e-42e5-c36f-f6f36dc7f975"
      },
      "source": [
        "dash.two_type_def()"
      ],
      "execution_count": null,
      "outputs": [
        {
          "output_type": "error",
          "ename": "KeyboardInterrupt",
          "evalue": "ignored",
          "traceback": [
            "\u001b[0;31m---------------------------------------------------------------------------\u001b[0m",
            "\u001b[0;31mKeyboardInterrupt\u001b[0m                         Traceback (most recent call last)",
            "\u001b[0;32m/usr/local/lib/python3.7/dist-packages/ipykernel/kernelbase.py\u001b[0m in \u001b[0;36m_input_request\u001b[0;34m(self, prompt, ident, parent, password)\u001b[0m\n\u001b[1;32m    728\u001b[0m             \u001b[0;32mtry\u001b[0m\u001b[0;34m:\u001b[0m\u001b[0;34m\u001b[0m\u001b[0;34m\u001b[0m\u001b[0m\n\u001b[0;32m--> 729\u001b[0;31m                 \u001b[0mident\u001b[0m\u001b[0;34m,\u001b[0m \u001b[0mreply\u001b[0m \u001b[0;34m=\u001b[0m \u001b[0mself\u001b[0m\u001b[0;34m.\u001b[0m\u001b[0msession\u001b[0m\u001b[0;34m.\u001b[0m\u001b[0mrecv\u001b[0m\u001b[0;34m(\u001b[0m\u001b[0mself\u001b[0m\u001b[0;34m.\u001b[0m\u001b[0mstdin_socket\u001b[0m\u001b[0;34m,\u001b[0m \u001b[0;36m0\u001b[0m\u001b[0;34m)\u001b[0m\u001b[0;34m\u001b[0m\u001b[0;34m\u001b[0m\u001b[0m\n\u001b[0m\u001b[1;32m    730\u001b[0m             \u001b[0;32mexcept\u001b[0m \u001b[0mException\u001b[0m\u001b[0;34m:\u001b[0m\u001b[0;34m\u001b[0m\u001b[0;34m\u001b[0m\u001b[0m\n",
            "\u001b[0;32m/usr/local/lib/python3.7/dist-packages/jupyter_client/session.py\u001b[0m in \u001b[0;36mrecv\u001b[0;34m(self, socket, mode, content, copy)\u001b[0m\n\u001b[1;32m    802\u001b[0m         \u001b[0;32mtry\u001b[0m\u001b[0;34m:\u001b[0m\u001b[0;34m\u001b[0m\u001b[0;34m\u001b[0m\u001b[0m\n\u001b[0;32m--> 803\u001b[0;31m             \u001b[0mmsg_list\u001b[0m \u001b[0;34m=\u001b[0m \u001b[0msocket\u001b[0m\u001b[0;34m.\u001b[0m\u001b[0mrecv_multipart\u001b[0m\u001b[0;34m(\u001b[0m\u001b[0mmode\u001b[0m\u001b[0;34m,\u001b[0m \u001b[0mcopy\u001b[0m\u001b[0;34m=\u001b[0m\u001b[0mcopy\u001b[0m\u001b[0;34m)\u001b[0m\u001b[0;34m\u001b[0m\u001b[0;34m\u001b[0m\u001b[0m\n\u001b[0m\u001b[1;32m    804\u001b[0m         \u001b[0;32mexcept\u001b[0m \u001b[0mzmq\u001b[0m\u001b[0;34m.\u001b[0m\u001b[0mZMQError\u001b[0m \u001b[0;32mas\u001b[0m \u001b[0me\u001b[0m\u001b[0;34m:\u001b[0m\u001b[0;34m\u001b[0m\u001b[0;34m\u001b[0m\u001b[0m\n",
            "\u001b[0;32m/usr/local/lib/python3.7/dist-packages/zmq/sugar/socket.py\u001b[0m in \u001b[0;36mrecv_multipart\u001b[0;34m(self, flags, copy, track)\u001b[0m\n\u001b[1;32m    582\u001b[0m         \"\"\"\n\u001b[0;32m--> 583\u001b[0;31m         \u001b[0mparts\u001b[0m \u001b[0;34m=\u001b[0m \u001b[0;34m[\u001b[0m\u001b[0mself\u001b[0m\u001b[0;34m.\u001b[0m\u001b[0mrecv\u001b[0m\u001b[0;34m(\u001b[0m\u001b[0mflags\u001b[0m\u001b[0;34m,\u001b[0m \u001b[0mcopy\u001b[0m\u001b[0;34m=\u001b[0m\u001b[0mcopy\u001b[0m\u001b[0;34m,\u001b[0m \u001b[0mtrack\u001b[0m\u001b[0;34m=\u001b[0m\u001b[0mtrack\u001b[0m\u001b[0;34m)\u001b[0m\u001b[0;34m]\u001b[0m\u001b[0;34m\u001b[0m\u001b[0;34m\u001b[0m\u001b[0m\n\u001b[0m\u001b[1;32m    584\u001b[0m         \u001b[0;31m# have first part already, only loop while more to receive\u001b[0m\u001b[0;34m\u001b[0m\u001b[0;34m\u001b[0m\u001b[0;34m\u001b[0m\u001b[0m\n",
            "\u001b[0;32mzmq/backend/cython/socket.pyx\u001b[0m in \u001b[0;36mzmq.backend.cython.socket.Socket.recv\u001b[0;34m()\u001b[0m\n",
            "\u001b[0;32mzmq/backend/cython/socket.pyx\u001b[0m in \u001b[0;36mzmq.backend.cython.socket.Socket.recv\u001b[0;34m()\u001b[0m\n",
            "\u001b[0;32mzmq/backend/cython/socket.pyx\u001b[0m in \u001b[0;36mzmq.backend.cython.socket._recv_copy\u001b[0;34m()\u001b[0m\n",
            "\u001b[0;32m/usr/local/lib/python3.7/dist-packages/zmq/backend/cython/checkrc.pxd\u001b[0m in \u001b[0;36mzmq.backend.cython.checkrc._check_rc\u001b[0;34m()\u001b[0m\n",
            "\u001b[0;31mKeyboardInterrupt\u001b[0m: ",
            "\nDuring handling of the above exception, another exception occurred:\n",
            "\u001b[0;31mKeyboardInterrupt\u001b[0m                         Traceback (most recent call last)",
            "\u001b[0;32m<ipython-input-120-8eaebcc228b7>\u001b[0m in \u001b[0;36m<module>\u001b[0;34m()\u001b[0m\n\u001b[0;32m----> 1\u001b[0;31m \u001b[0mdash\u001b[0m\u001b[0;34m.\u001b[0m\u001b[0mtwo_type_def\u001b[0m\u001b[0;34m(\u001b[0m\u001b[0;34m)\u001b[0m\u001b[0;34m\u001b[0m\u001b[0;34m\u001b[0m\u001b[0m\n\u001b[0m",
            "\u001b[0;32m<ipython-input-117-faff0ad6ec8f>\u001b[0m in \u001b[0;36mtwo_type_def\u001b[0;34m(self)\u001b[0m\n\u001b[1;32m     80\u001b[0m \u001b[0;34m\u001b[0m\u001b[0m\n\u001b[1;32m     81\u001b[0m   \u001b[0;32mdef\u001b[0m \u001b[0mtwo_type_def\u001b[0m\u001b[0;34m(\u001b[0m\u001b[0mself\u001b[0m\u001b[0;34m)\u001b[0m\u001b[0;34m:\u001b[0m\u001b[0;34m\u001b[0m\u001b[0;34m\u001b[0m\u001b[0m\n\u001b[0;32m---> 82\u001b[0;31m     \u001b[0mpokemon\u001b[0m \u001b[0;34m=\u001b[0m \u001b[0minput\u001b[0m\u001b[0;34m(\u001b[0m\u001b[0;34m\"What pokemon? (any or <NAME>)\"\u001b[0m\u001b[0;34m)\u001b[0m\u001b[0;34m\u001b[0m\u001b[0;34m\u001b[0m\u001b[0m\n\u001b[0m\u001b[1;32m     83\u001b[0m     \u001b[0mpokemon\u001b[0m \u001b[0;34m=\u001b[0m \u001b[0mpokemon\u001b[0m\u001b[0;34m.\u001b[0m\u001b[0mcapitalize\u001b[0m\u001b[0;34m(\u001b[0m\u001b[0;34m)\u001b[0m\u001b[0;34m\u001b[0m\u001b[0;34m\u001b[0m\u001b[0m\n\u001b[1;32m     84\u001b[0m     \u001b[0;32mif\u001b[0m \u001b[0mpokemon\u001b[0m \u001b[0;34m!=\u001b[0m \u001b[0;34m'any'\u001b[0m\u001b[0;34m:\u001b[0m\u001b[0;34m\u001b[0m\u001b[0;34m\u001b[0m\u001b[0m\n",
            "\u001b[0;32m/usr/local/lib/python3.7/dist-packages/ipykernel/kernelbase.py\u001b[0m in \u001b[0;36mraw_input\u001b[0;34m(self, prompt)\u001b[0m\n\u001b[1;32m    702\u001b[0m             \u001b[0mself\u001b[0m\u001b[0;34m.\u001b[0m\u001b[0m_parent_ident\u001b[0m\u001b[0;34m,\u001b[0m\u001b[0;34m\u001b[0m\u001b[0;34m\u001b[0m\u001b[0m\n\u001b[1;32m    703\u001b[0m             \u001b[0mself\u001b[0m\u001b[0;34m.\u001b[0m\u001b[0m_parent_header\u001b[0m\u001b[0;34m,\u001b[0m\u001b[0;34m\u001b[0m\u001b[0;34m\u001b[0m\u001b[0m\n\u001b[0;32m--> 704\u001b[0;31m             \u001b[0mpassword\u001b[0m\u001b[0;34m=\u001b[0m\u001b[0;32mFalse\u001b[0m\u001b[0;34m,\u001b[0m\u001b[0;34m\u001b[0m\u001b[0;34m\u001b[0m\u001b[0m\n\u001b[0m\u001b[1;32m    705\u001b[0m         )\n\u001b[1;32m    706\u001b[0m \u001b[0;34m\u001b[0m\u001b[0m\n",
            "\u001b[0;32m/usr/local/lib/python3.7/dist-packages/ipykernel/kernelbase.py\u001b[0m in \u001b[0;36m_input_request\u001b[0;34m(self, prompt, ident, parent, password)\u001b[0m\n\u001b[1;32m    732\u001b[0m             \u001b[0;32mexcept\u001b[0m \u001b[0mKeyboardInterrupt\u001b[0m\u001b[0;34m:\u001b[0m\u001b[0;34m\u001b[0m\u001b[0;34m\u001b[0m\u001b[0m\n\u001b[1;32m    733\u001b[0m                 \u001b[0;31m# re-raise KeyboardInterrupt, to truncate traceback\u001b[0m\u001b[0;34m\u001b[0m\u001b[0;34m\u001b[0m\u001b[0;34m\u001b[0m\u001b[0m\n\u001b[0;32m--> 734\u001b[0;31m                 \u001b[0;32mraise\u001b[0m \u001b[0mKeyboardInterrupt\u001b[0m\u001b[0;34m\u001b[0m\u001b[0;34m\u001b[0m\u001b[0m\n\u001b[0m\u001b[1;32m    735\u001b[0m             \u001b[0;32melse\u001b[0m\u001b[0;34m:\u001b[0m\u001b[0;34m\u001b[0m\u001b[0;34m\u001b[0m\u001b[0m\n\u001b[1;32m    736\u001b[0m                 \u001b[0;32mbreak\u001b[0m\u001b[0;34m\u001b[0m\u001b[0;34m\u001b[0m\u001b[0m\n",
            "\u001b[0;31mKeyboardInterrupt\u001b[0m: "
          ]
        }
      ]
    },
    {
      "cell_type": "code",
      "metadata": {
        "id": "eyNiy8Nf6sqe"
      },
      "source": [
        ""
      ],
      "execution_count": null,
      "outputs": []
    },
    {
      "cell_type": "markdown",
      "metadata": {
        "id": "_LR871e4Qqql"
      },
      "source": [
        "# Pokemon X Game Info"
      ]
    },
    {
      "cell_type": "markdown",
      "metadata": {
        "id": "SmTpt5v2HpC3"
      },
      "source": [
        "fennekin. bunnelby. fletchling. pidgey. scatterbug. weedle. pansear. panpour. farfetch'd. flabébé. roselia. ledyba. combee. bulbasaur. skiddo. pancham. doduo. espurr. honedge. ducklett. swirlix. volbeat"
      ]
    },
    {
      "cell_type": "markdown",
      "metadata": {
        "id": "34MhquAxQ1JK"
      },
      "source": [
        "![pic](https://cdn2.bulbagarden.net/upload/4/4b/TagPersim.png)\n",
        "\n",
        "| <p>Mulch</p>| <p>Symbol</p> | <p>Effects</p> | <p>How-To</p> |\n",
        "|:-------:|:-------:|:-------:|:-------:|\n",
        "| <p>Surprise Mulch</p> | <p> ![pic](https://cdn2.bulbagarden.net/upload/3/3a/Dream_Surprise_Mulch_Sprite.png) </p>| <p> increases chances of berry mutation </p> |  <p> three berries of the same color </p> |\n",
        "| <p>Boost Mulch</p> | <p> ![pic](https://cdn2.bulbagarden.net/upload/c/c8/Dream_Boost_Mulch_Sprite.png) </p>| <p> increases yield by reducing watering time </p> |  <p> two berries of same color with other berry </p> |\n",
        "| <p>Name Mulch</p> | <p> &#num; </p>| <p> ??? </p> |  <p> how_to </p> |\n",
        "\n",
        "---\n",
        "\n",
        "| <p>Berry Planted</p>| <p>Symbol</p> | <p>Locations</p> |\n",
        "|:-------:|:-------:|:-------:|\n",
        "| <h1>Oran</h1> | <p>![pic](https://cdn2.bulbagarden.net/upload/3/39/TagOran.png)</p> |<p>![pic]()</p>|\n",
        "| <h1>Pecha</h1> | <p>![pic](https://cdn2.bulbagarden.net/upload/6/61/TagPecha.png)</p> |<p>![pic]()</p>|\n",
        "| <h1>Persim</h1> | <p>![pic](https://cdn2.bulbagarden.net/upload/4/4b/TagPersim.png)</p> |<p>![pic]()</p>|\n",
        "| <h1>Berry</h1> | <p>![pic]()</p> |<p>![pic]()</p>|\n",
        "| <h1>Berry</h1> | <p>![pic]()</p> |<p>![pic]()</p>|\n",
        "| <h1>Berry</h1> | <p>![pic]()</p> |<p>![pic]()</p>|\n",
        "\n",
        "\n",
        "\n",
        "\n",
        "---\n",
        "\n",
        "| <p>__ 6L __</p> | <p>__ 5L __</p> | <p>__ 4L __ </p> | <p>__ 3L __</p> | <p>__ 2L __</p> | <p>__ 1L __</p> | <p>Walk</p> | <p>__ 1R __</p>| <p>__ 2R __</p> | <p>__ 3R __</p> | <p>__ 4R __</p> | <p>__ 5R __</p> | <p>__ 6R __</p> |\n",
        "|:-----:|:-----:|:-----:|:-----:|:-----:|:-----:|:-----:|:-----:|:-----:|:-----:|:-----:|:-----:|:-----:|\n",
        "|<p> &#129744; </p>|<p> . </p>|<p> . </p>|<p> &#127744; &#129744; </p>|<p> &#127744; &#129744; </p>|<p> &#127744; &#129744; </p>|<p>  </p>|<p> &#128992; &#127825; </p>|<p> &#128992; &#127825; </p>|<p> &#128992; &#127825; </p>|<p> . </p>|<p> . </p>|<p> . </p>|\n",
        "|<p>  </p>|<p>  </p>|<p>  </p>|<p>  </p>|<p>  </p>|<p>  </p>|<p>  </p>|<p>  </p>|<p>  </p>|<p>  </p>|<p>  </p>|<p>  </p>|<p>  </p>|\n",
        "|<p> . </p>|<p> . </p>|![pic](https://cdn2.bulbagarden.net/upload/c/c8/Dream_Boost_Mulch_Sprite.png)<h1> &#129744; </h1>|<p> &#127775; &#129744; </p>|<p> &#127775; &#129744; </p>|<p> &#129365; </p>|<p>  </p>|<p> . </p>|<p> &#127775; &#127825; </p>|<p> &#127775; &#127825; </p>|<p> &#127775; &#127825; </p>|<p> . </p>|<p> . </p>|\n",
        "|<p>  </p>|<p>  </p>|<p>  </p>|<p>  </p>|<p>  </p>|<p>  </p>|<p>  </p>|<p>  </p>|<p>  </p>|<p>  </p>|<p>  </p>|<p>  </p>|<p>  </p>|\n",
        "|<p> . </p>|<p> . </p>|<p> . </p>|<p> . </p>|<p> . </p>|<p> . </p>|<p>  </p>|<p> . </p>|<p> . </p>|<p> . </p>|<p> . </p>|<p> . </p>|<p> . </p>|\n",
        "|<p>  </p>|<p>  </p>|<p>  </p>|<p>  </p>|<p>  </p>|<p>  </p>|<p>  </p>|<p>  </p>|<p>  </p>|<p>  </p>|<p>  </p>|<p>  </p>|<p>  </p>|\n"
      ]
    },
    {
      "cell_type": "code",
      "metadata": {
        "id": "z08Ci0k5RmIq"
      },
      "source": [
        ""
      ],
      "execution_count": null,
      "outputs": []
    }
  ]
}